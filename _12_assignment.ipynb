{
 "cells": [
  {
   "cell_type": "markdown",
   "id": "7e6aaae5",
   "metadata": {},
   "source": [
    "1. Does assigning a value to a string's indexed character violate Python's string immutability ?\n"
   ]
  },
  {
   "cell_type": "markdown",
   "id": "49bd7410",
   "metadata": {},
   "source": [
    "Ans: String’s indexed character cannot to be assigned a New value , as Strings are immutable.\n",
    " "
   ]
  },
  {
   "cell_type": "markdown",
   "id": "ab03f8b8",
   "metadata": {},
   "source": [
    "\n",
    "2. Does using the += operator to concatenate strings violate Python's string immutability? Why or why not ?"
   ]
  },
  {
   "cell_type": "markdown",
   "id": "17bcb300",
   "metadata": {},
   "source": [
    "Ans: += operator is used to concatenate strings, it does not violate Python’s string immutability Property. Because doing so new creates a new association with data and variable. E.g. str_1=\"a\" and str_1+=\"b. effect of this statements to create string ab and reassign it to variable str_1, any string data is not actually modified.\n"
   ]
  },
  {
   "cell_type": "code",
   "execution_count": 1,
   "id": "725a4352",
   "metadata": {},
   "outputs": [
    {
     "name": "stdout",
     "output_type": "stream",
     "text": [
      "2307126773360\n",
      "2307207127600\n"
     ]
    }
   ],
   "source": [
    "str_1 = 'a'\n",
    "print(id(str_1))\n",
    "str_1 += 'b'\n",
    "print(id(str_1)) # Does not Modify existing string, Creates a New String Object"
   ]
  },
  {
   "cell_type": "markdown",
   "id": "1013fb1a",
   "metadata": {},
   "source": [
    "3. In Python, how many different ways are there to index a character?\n"
   ]
  },
  {
   "cell_type": "markdown",
   "id": "be436cb1",
   "metadata": {},
   "source": [
    "Ans: A Character in string can be indexed using string name followed by index number of character in square bracket. Positive Indexing i.e. first index is 0 an so on, or\n",
    "\n",
    "Negative Indexing i.e. last letter is -1 and so on can be used to index a character\n"
   ]
  },
  {
   "cell_type": "code",
   "execution_count": 2,
   "id": "25a2cb92",
   "metadata": {},
   "outputs": [
    {
     "name": "stdout",
     "output_type": "stream",
     "text": [
      "u l e\n",
      "e i c\n"
     ]
    }
   ],
   "source": [
    "in_string = \"iNeuron Full Stack Data Science\"\n",
    "print(in_string[9],in_string[10],in_string[2]) # Positive Indexing\n",
    "print(in_string[-1],in_string[-5],in_string[-2]) # Negative Indexing"
   ]
  },
  {
   "cell_type": "markdown",
   "id": "3a6d679b",
   "metadata": {},
   "source": [
    "\n",
    "4. What is the relationship between indexing and slicing?\n"
   ]
  },
  {
   "cell_type": "markdown",
   "id": "b185ec41",
   "metadata": {},
   "source": [
    "Ans: We can access elements of sequence datatypes by using slicing and indexing. Indexing is used to obtaining individual element while slicing for sequence of elements.\n"
   ]
  },
  {
   "cell_type": "code",
   "execution_count": 3,
   "id": "a72f7df0",
   "metadata": {},
   "outputs": [
    {
     "name": "stdout",
     "output_type": "stream",
     "text": [
      "N u o\n",
      "Neuron Full St\n"
     ]
    }
   ],
   "source": [
    "\n",
    "in_string = \"iNeuron Full Stack Data Science\"\n",
    "print(in_string[1],in_string[3],in_string[5]) # Indexing\n",
    "print(in_string[1:15]) # Slicing"
   ]
  },
  {
   "cell_type": "markdown",
   "id": "38a03711",
   "metadata": {},
   "source": [
    "5. What is an indexed character's exact data type? What is the data form of a slicing-generated substring?\n"
   ]
  },
  {
   "cell_type": "markdown",
   "id": "450f458a",
   "metadata": {},
   "source": [
    "Ans: Indexed characters and sliced substrings have datatype String.\n"
   ]
  },
  {
   "cell_type": "markdown",
   "id": "416250bb",
   "metadata": {},
   "source": [
    "6. What is the relationship between string and character \"types\" in Python?\n"
   ]
  },
  {
   "cell_type": "markdown",
   "id": "3372d4db",
   "metadata": {},
   "source": [
    "Ans: Object that contains sequence of character datatypes are called String.\n"
   ]
  },
  {
   "cell_type": "markdown",
   "id": "f660c65c",
   "metadata": {},
   "source": [
    "\n",
    "7. Identify at least two operators & one method that allow you to combine one or more smaller strings to create a larger string ?\n"
   ]
  },
  {
   "cell_type": "markdown",
   "id": "a8038a92",
   "metadata": {},
   "source": [
    "Ans: +, += and * allow to combine one or more smaller strings to create a larger string. .join() method joins element of iterable type like list and tuple to get a combined string.\n"
   ]
  },
  {
   "cell_type": "markdown",
   "id": "c9ed66bc",
   "metadata": {},
   "source": [
    "\n",
    "8. What is the benefit of first checking the target string with in or not in before using the index method to find a substring ?\n"
   ]
  },
  {
   "cell_type": "markdown",
   "id": "4c9c418f",
   "metadata": {},
   "source": [
    "Ans: i n e u r o n Checking the target string with in or not Operators before using the index method to find a substring just helps confirming availability of substring and thus avoid raising of ValueError.\n",
    "\n",
    "Example: in_string = \"ineuron\"\n",
    "\n",
    "in_string.index('x') # Raises ValueError\n",
    "\n",
    "in_string.index('u') # 3\n"
   ]
  },
  {
   "cell_type": "markdown",
   "id": "2520e590",
   "metadata": {},
   "source": [
    "\n",
    "9. Which operators and built-in string methods produce simple Boolean (true/false) results?\n"
   ]
  },
  {
   "cell_type": "markdown",
   "id": "812175aa",
   "metadata": {},
   "source": [
    "Ans: The String Operators and built-in methods to Produce Simple Boolean (True/False) Results are:\n",
    "\n",
    "in not\n",
    "\n",
    ".isalpha()\n",
    "\n",
    ".isalnum()\n",
    "\n",
    ".isdecimal()\n",
    "\n",
    ".isdigit()\n",
    "\n",
    ".islower()\n",
    "\n",
    ".isnumeric()\n",
    "\n",
    ".isprintable()\n",
    "\n",
    ".isspace()\n",
    "\n",
    ".istitle()aa"
   ]
  }
 ],
 "metadata": {
  "kernelspec": {
   "display_name": "Python 3 (ipykernel)",
   "language": "python",
   "name": "python3"
  },
  "language_info": {
   "codemirror_mode": {
    "name": "ipython",
    "version": 3
   },
   "file_extension": ".py",
   "mimetype": "text/x-python",
   "name": "python",
   "nbconvert_exporter": "python",
   "pygments_lexer": "ipython3",
   "version": "3.9.12"
  }
 },
 "nbformat": 4,
 "nbformat_minor": 5
}
