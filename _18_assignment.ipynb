{
 "cells": [
  {
   "cell_type": "markdown",
   "id": "a86f9316",
   "metadata": {},
   "source": [
    "Q1. Describe the differences between text and binary files in a single paragraph.\n"
   ]
  },
  {
   "cell_type": "markdown",
   "id": "bfb52048",
   "metadata": {},
   "source": [
    "Ans: The differences between Text Files and Binary Files are:\n",
    "\n",
    "Text files are special subset of binary files that are used to store human readable characters as a rich text document or plain text document. Text files also store data in sequential bytes but bits in text file represents characters.\n",
    "\n",
    "Binary files are those typical files that store data in the form of sequence of bytes grouped into eight bits or sometimes sixteen bits. These bits represent custom data and such files can store multiple types of data (images, audio, text, etc) under a single file.\n"
   ]
  },
  {
   "cell_type": "markdown",
   "id": "13de63b8",
   "metadata": {},
   "source": [
    "\n",
    "Q2. What are some scenarios where using text files will be the better option? When would you like to use binary files instead of text files?\n"
   ]
  },
  {
   "cell_type": "markdown",
   "id": "77515ec6",
   "metadata": {},
   "source": [
    "Ans: Text files are less prone to get corrupted as any undesired change may just show up once the file is opened and then can easily be removed. Whereas Use binary files instead of text files for image data.\n"
   ]
  },
  {
   "cell_type": "markdown",
   "id": "32d5212d",
   "metadata": {},
   "source": [
    "\n",
    "Q3. What are some of the issues with using binary operations to read and write a Python integer directly to disc?\n"
   ]
  },
  {
   "cell_type": "markdown",
   "id": "21946caf",
   "metadata": {},
   "source": [
    "Ans: When we read or write a python integer using binary operations\n",
    "\n",
    "Binary operations deal with raw data One needs to identify how many bytes one would read or write.\n"
   ]
  },
  {
   "cell_type": "markdown",
   "id": "a2cb887e",
   "metadata": {},
   "source": [
    "\n",
    "Q4. Describe a benefit of using the with keyword instead of explicitly opening a file ?\n"
   ]
  },
  {
   "cell_type": "markdown",
   "id": "63da563f",
   "metadata": {},
   "source": [
    "Ans: When a file is opened using the with keyword, if some exceptions occur after opening a file, or at the end of the file it automatically does the closing of the file. There by not leaving an file in open mode and there would no need to explicitly close a file.\n"
   ]
  },
  {
   "cell_type": "markdown",
   "id": "027c6877",
   "metadata": {},
   "source": [
    "\n",
    "Q5. Does Python have the trailing newline while reading a line of text? Does Python append a newline when you write a line of text?\n"
   ]
  },
  {
   "cell_type": "markdown",
   "id": "9133cbb9",
   "metadata": {},
   "source": [
    "Ans: Yes, Python have the trailing newline while reading a line of text. When we write a newline has to be provided in python excpicitly.\n"
   ]
  },
  {
   "cell_type": "markdown",
   "id": "3d63c836",
   "metadata": {},
   "source": [
    "\n",
    "Q6. What file operations enable for random-access operation?\n",
    "\n"
   ]
  },
  {
   "cell_type": "markdown",
   "id": "ecf9de74",
   "metadata": {},
   "source": [
    "Ans: The file operations enable for random-access operation are seek() and tell()"
   ]
  },
  {
   "cell_type": "markdown",
   "id": "abd88b5e",
   "metadata": {},
   "source": [
    "\n",
    "Q7. When do you think you'll use the struct package the most?\n"
   ]
  },
  {
   "cell_type": "markdown",
   "id": "9e22890a",
   "metadata": {},
   "source": [
    "Ans: The struct package is mostly used while converting a common python types into C language types.\n"
   ]
  },
  {
   "cell_type": "markdown",
   "id": "3fcd15fa",
   "metadata": {},
   "source": [
    "\n",
    "Q8. When is pickling the best option?\n"
   ]
  },
  {
   "cell_type": "markdown",
   "id": "b8fdd9a7",
   "metadata": {},
   "source": [
    "Ans: Pickling is best option for creating a new binary file using python.\n"
   ]
  },
  {
   "cell_type": "markdown",
   "id": "6b46ac88",
   "metadata": {},
   "source": [
    "\n",
    "Q10. What is a special restriction when using the shelve package, as opposed to using other data dictionaries?\n"
   ]
  },
  {
   "cell_type": "markdown",
   "id": "6c9a2af2",
   "metadata": {},
   "source": [
    "Ans: Only string data type can be used as key in this special dictionary object, whereas any picklable Python object can be used as value."
   ]
  }
 ],
 "metadata": {
  "kernelspec": {
   "display_name": "Python 3 (ipykernel)",
   "language": "python",
   "name": "python3"
  },
  "language_info": {
   "codemirror_mode": {
    "name": "ipython",
    "version": 3
   },
   "file_extension": ".py",
   "mimetype": "text/x-python",
   "name": "python",
   "nbconvert_exporter": "python",
   "pygments_lexer": "ipython3",
   "version": "3.9.12"
  }
 },
 "nbformat": 4,
 "nbformat_minor": 5
}
