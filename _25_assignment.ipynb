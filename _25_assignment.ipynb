{
 "cells": [
  {
   "cell_type": "markdown",
   "id": "33202747",
   "metadata": {},
   "source": [
    "Q1. What is the distinction between a numpy array and a pandas data frame? Is there a way to convert between the two if there is ?\n"
   ]
  },
  {
   "cell_type": "markdown",
   "id": "418dee79",
   "metadata": {},
   "source": [
    "Ans: Numpy Ndarray provides a lot of convenient and optimized methods for performing several mathematical operations on vectors.\n",
    "\n",
    "Pandas Dataframe is an in-memory 2-dimensional tabular representation of data. In simpler words, it can be seen as a spreadsheet having rows and columns.\n",
    "\n",
    "Conversion : Dataframe=pandas.DataFrame(array)\n"
   ]
  },
  {
   "cell_type": "markdown",
   "id": "e2f379b8",
   "metadata": {},
   "source": [
    "\n",
    "Q2. Identify some of the plotting techniques that are used to produce a stock-market chart ?\n"
   ]
  },
  {
   "cell_type": "markdown",
   "id": "c12370a0",
   "metadata": {},
   "source": [
    "Ans: Bar chart, Line Chart are used for plotting.\n"
   ]
  },
  {
   "cell_type": "markdown",
   "id": "ad993370",
   "metadata": {},
   "source": [
    "\n",
    "Q3. Why is it essential to print a legend on a stock market chart ?\n"
   ]
  },
  {
   "cell_type": "markdown",
   "id": "f5bf1082",
   "metadata": {},
   "source": [
    "Ans: Legend will help comparison between different stocks, so will be essential on a stock market chart\n"
   ]
  },
  {
   "cell_type": "markdown",
   "id": "34d35e72",
   "metadata": {},
   "source": [
    "\n",
    "Q4. What is the best way to limit the length of a pandas data frame to less than a year ?\n"
   ]
  },
  {
   "cell_type": "markdown",
   "id": "cf2627e4",
   "metadata": {},
   "source": [
    "Ans: : We can use start and end parameters for that. In start we write the date from where we are starting and at the end we write the end date. SO within this span we can restric the duration.Also we can use the parameters like periods for how much times we need the duration and we can also use the frequency parameter.\n"
   ]
  },
  {
   "cell_type": "markdown",
   "id": "e48d5b27",
   "metadata": {},
   "source": [
    "\n",
    "Q5. What is the definition of a 180-day moving average ?\n"
   ]
  },
  {
   "cell_type": "markdown",
   "id": "f57d80a8",
   "metadata": {},
   "source": [
    "Ans: : The 180-day moving average is represented as a line on charts and represents the average price over the past 180 days. The moving average can give traders a sense regarding whether the trend is up or down, while also identifying potential support or resistance areas."
   ]
  }
 ],
 "metadata": {
  "kernelspec": {
   "display_name": "Python 3 (ipykernel)",
   "language": "python",
   "name": "python3"
  },
  "language_info": {
   "codemirror_mode": {
    "name": "ipython",
    "version": 3
   },
   "file_extension": ".py",
   "mimetype": "text/x-python",
   "name": "python",
   "nbconvert_exporter": "python",
   "pygments_lexer": "ipython3",
   "version": "3.9.12"
  }
 },
 "nbformat": 4,
 "nbformat_minor": 5
}
