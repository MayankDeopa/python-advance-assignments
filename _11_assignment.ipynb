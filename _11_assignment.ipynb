{
 "cells": [
  {
   "cell_type": "markdown",
   "id": "353c0750",
   "metadata": {},
   "source": [
    "1. What is the concept of a metaclass?\n",
    "Ans: Metaclass in Python is a class of a class that defines how a class behaves. A class is itself a instance of Metaclass, and any Instance of Class in Python is an Instance of type metaclass.\n",
    "\n",
    "E.g. Type of of int, str, float, list, tuple and many more is of metaclass type.\n"
   ]
  },
  {
   "cell_type": "markdown",
   "id": "2eb56fb7",
   "metadata": {},
   "source": [
    "\n",
    "2. What is the best way to declare a class's metaclass?\n"
   ]
  },
  {
   "cell_type": "markdown",
   "id": "2f2ec50e",
   "metadata": {},
   "source": [
    "Ans: A way to declare a class’ metaclass is by using metaclass keyword in class definition.\n",
    "\n",
    " class meta(type):\n",
    "    pass\n",
    " class class_meta(metaclass=meta):\n",
    "    pass\n",
    " print(type(meta))\n",
    " print(type(class_meta))\n",
    " \n",
    "<class 'type'>\n",
    "<class '__main__.meta'>"
   ]
  },
  {
   "cell_type": "markdown",
   "id": "3d7c20bb",
   "metadata": {},
   "source": [
    "\n",
    "3. How do class decorators overlap with metaclasses for handling classes ?\n"
   ]
  },
  {
   "cell_type": "markdown",
   "id": "d02a3a1a",
   "metadata": {},
   "source": [
    "Ans: Anything you can do with a class decorator, you can of course do with a custom metaclasses (just apply the functionality of the \"decorator function\", i.e., the one that takes a class object and modifies it, in the course of the metaclass's new or init that make the class object!).\n"
   ]
  },
  {
   "cell_type": "markdown",
   "id": "6186098d",
   "metadata": {},
   "source": [
    "\n",
    "4. How do class decorators overlap with metaclasses for handling instances?\n"
   ]
  },
  {
   "cell_type": "markdown",
   "id": "1e1e5b0a",
   "metadata": {},
   "source": [
    "Ans: Anything you can do with a class decorator, you can of course do with a custom metaclass (just apply the functionality of the \"decorator function\", i.e., the one that takes a class object and modifies it, in the course of the metaclass's new or init that make the class object!)."
   ]
  }
 ],
 "metadata": {
  "kernelspec": {
   "display_name": "Python 3 (ipykernel)",
   "language": "python",
   "name": "python3"
  },
  "language_info": {
   "codemirror_mode": {
    "name": "ipython",
    "version": 3
   },
   "file_extension": ".py",
   "mimetype": "text/x-python",
   "name": "python",
   "nbconvert_exporter": "python",
   "pygments_lexer": "ipython3",
   "version": "3.9.12"
  }
 },
 "nbformat": 4,
 "nbformat_minor": 5
}
