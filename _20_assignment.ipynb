{
 "cells": [
  {
   "cell_type": "markdown",
   "id": "8b305d1a",
   "metadata": {},
   "source": [
    "1. Compare and contrast the float and Decimal classes' benefits and drawbacks ?\n"
   ]
  },
  {
   "cell_type": "markdown",
   "id": "6d8a2f50",
   "metadata": {},
   "source": [
    "Ans: Both the float and decimal types store numerical values in Python.\n",
    "\n",
    "Use floats when convenience and speed matter. A float gives you an approximation of the number you declare.\n",
    "\n",
    "Use decimals when precision matters. Decimals can suffer from their own precision issues, but generally, decimals are more precise than floats. The performance difference between float and decimal, with Python 3, is not outlandish, and in my experience, the precision benefits of a decimal outweigh the performance benefits of a float.\n"
   ]
  },
  {
   "cell_type": "markdown",
   "id": "9bff0159",
   "metadata": {},
   "source": [
    "\n",
    "2. Decimal('1.200') and Decimal('1.2') are two objects to consider. In what sense are these the same object? Are these just two ways of representing the exact same value, or do they correspond to different internal states ?\n"
   ]
  },
  {
   "cell_type": "markdown",
   "id": "74fd4d43",
   "metadata": {},
   "source": [
    "Ans: Both values are same but internal representation at storage Is different. Precsion differs, Decimal('1.200') gives internally 1.200 and Decimal('1.2') gives 1.2.\n"
   ]
  },
  {
   "cell_type": "markdown",
   "id": "255a0f53",
   "metadata": {},
   "source": [
    "\n",
    "3. What happens if the equality of Decimal('1.200') and Decimal('1.2') is checked ?\n"
   ]
  },
  {
   "cell_type": "markdown",
   "id": "a5d5dc37",
   "metadata": {},
   "source": [
    "Ans: Both values are checked to be equal , they only differ in precision.\n"
   ]
  },
  {
   "cell_type": "markdown",
   "id": "0c1ea0aa",
   "metadata": {},
   "source": [
    "\n",
    "4. Why is it preferable to start a Decimal object with a string rather than a floating-point value ?\n"
   ]
  },
  {
   "cell_type": "markdown",
   "id": "aa68a5b5",
   "metadata": {},
   "source": [
    "Ans: Floating-point value is converted to Decimal format. Decimal can store float value with absolute precision. But when float value is given as Decimal object,it first has to be converted from floating point value which might already have rounding error.\n",
    "\n",
    "Hence it is preferable to start a Decimal object with a string.\n"
   ]
  },
  {
   "cell_type": "markdown",
   "id": "c413d3bb",
   "metadata": {},
   "source": [
    "\n",
    "5. In an arithmetic phrase, how simple is it to combine Decimal objects with integers ?\n"
   ]
  },
  {
   "cell_type": "markdown",
   "id": "44ca97a0",
   "metadata": {},
   "source": [
    "Ans: We can do it with use of Decimal().\n"
   ]
  },
  {
   "cell_type": "markdown",
   "id": "bb4dda7d",
   "metadata": {},
   "source": [
    "\n",
    "6. Can Decimal objects and floating-point values be combined easily ?\n"
   ]
  },
  {
   "cell_type": "markdown",
   "id": "8f97fd95",
   "metadata": {},
   "source": [
    "Ans: Arithmetic operfations like Adding,subtracting or multiplying a Decimal object by a floating-point value is generates an error.\n",
    "\n",
    "To do these operations, the floating point has to be converted to a Decimal.\n"
   ]
  },
  {
   "cell_type": "markdown",
   "id": "858a66e3",
   "metadata": {},
   "source": [
    "\n",
    "7. Using the Fraction class but not the Decimal class, give an example of a quantity that can be expressed with absolute precision ?\n"
   ]
  },
  {
   "cell_type": "markdown",
   "id": "b9ed6c49",
   "metadata": {},
   "source": [
    "Ans: Value of 0.5 will be represented as ½.\n"
   ]
  },
  {
   "cell_type": "markdown",
   "id": "c0a152e8",
   "metadata": {},
   "source": [
    "\n",
    "8.Consider the following two fraction objects: Fraction(1, 2) and Fraction(1, 2). (5, 10). Is the internal state of these two objects the same? Why do you think that is ?\n"
   ]
  },
  {
   "cell_type": "markdown",
   "id": "15656a6c",
   "metadata": {},
   "source": [
    "Ans: Both will be reduced to 1/2\n"
   ]
  },
  {
   "cell_type": "markdown",
   "id": "975e7dad",
   "metadata": {},
   "source": [
    "\n",
    "9. How do the Fraction class and the integer type (int) relate to each other? Containment or inheritance ?\n"
   ]
  },
  {
   "cell_type": "markdown",
   "id": "deb29eb7",
   "metadata": {},
   "source": [
    "Ans: Fraction class and integer type(int) are related in form of a container.It contains two ints, one the numerator and the other the denominator"
   ]
  }
 ],
 "metadata": {
  "kernelspec": {
   "display_name": "Python 3 (ipykernel)",
   "language": "python",
   "name": "python3"
  },
  "language_info": {
   "codemirror_mode": {
    "name": "ipython",
    "version": 3
   },
   "file_extension": ".py",
   "mimetype": "text/x-python",
   "name": "python",
   "nbconvert_exporter": "python",
   "pygments_lexer": "ipython3",
   "version": "3.9.12"
  }
 },
 "nbformat": 4,
 "nbformat_minor": 5
}
