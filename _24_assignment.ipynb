{
 "cells": [
  {
   "cell_type": "markdown",
   "id": "c77d7756",
   "metadata": {},
   "source": [
    "Q1. Is it permissible to use several import statements to import the same module? What would the goal be? Can you think of a situation where it would be beneficial ?\n"
   ]
  },
  {
   "cell_type": "markdown",
   "id": "b72a7a65",
   "metadata": {},
   "source": [
    "Ans: Yes, it is permissible to use several import statements to import the same module. It is used in case when we have to import multiple functions from same module.\n"
   ]
  },
  {
   "cell_type": "markdown",
   "id": "b18a1ae9",
   "metadata": {},
   "source": [
    "Q2. What are some of a module's characteristics? (Name at least one.)\n"
   ]
  },
  {
   "cell_type": "markdown",
   "id": "5f050aff",
   "metadata": {},
   "source": [
    "Ans: The following are some of a module's characteristics:\n",
    "\n",
    "name : It returns the name of the module\n",
    "\n",
    "doc : It denotes the documentation string line written in a module code.\n",
    "\n",
    "file : It holds the name and path of the module file from which it is loaded\n",
    "\n",
    "dict : It return a dictionary object of module attributes, functions and other definitions and their respective valu\n"
   ]
  },
  {
   "cell_type": "markdown",
   "id": "6e1f080d",
   "metadata": {},
   "source": [
    "Q3. Circular importing, such as when two modules import each other, can lead to dependencies and bugs that aren't visible. How can you go about creating a program that avoids mutual importing?\n"
   ]
  },
  {
   "cell_type": "markdown",
   "id": "14aeb2d4",
   "metadata": {},
   "source": [
    "Ans: Circular importing means importing the two modules in each other. If suppose we are wokring in MOD1.py file and it is importing some function say F2() from some other module say MOD2.PY file or we can do vice-versa. What will happen is: This will give an import error.\n",
    "\n",
    "This is because when we import F2() function from module MOD2.py, then this will execute MOD2.py file. And in MOD2.py file there is an another statement of importing MOD1.py module.\n",
    "\n",
    "This will result in endless loop. To avoid this error just do one thingWe can use if name == 'main'\n",
    "\n",
    "In the function, you can't directly refer to the function in the program. The addition of this sentence avoids the endless loop of the program .\n"
   ]
  },
  {
   "cell_type": "markdown",
   "id": "f734ab9e",
   "metadata": {},
   "source": [
    "\n",
    "\n",
    "Q4. Why is all in Python ?\n"
   ]
  },
  {
   "cell_type": "markdown",
   "id": "0dbd79b8",
   "metadata": {},
   "source": [
    "Ans: It provides list of all modules present in a library.\n"
   ]
  },
  {
   "cell_type": "markdown",
   "id": "af823eca",
   "metadata": {},
   "source": [
    "\n",
    "Q5. In what situation is it useful to refer to the name attribute or the string _main _ ?\n"
   ]
  },
  {
   "cell_type": "markdown",
   "id": "471f2c9d",
   "metadata": {},
   "source": [
    "Ans: During the time of execution of the code if we want to refer the module in which we are working on then we uses name attribute. In that case it will return the module in which we are working on. Suppose if that moudle is being imported from some other module then name will have the name of that moudle from where the current module has been imported. The current module in which we are working is refer to the string main ."
   ]
  }
 ],
 "metadata": {
  "kernelspec": {
   "display_name": "Python 3 (ipykernel)",
   "language": "python",
   "name": "python3"
  },
  "language_info": {
   "codemirror_mode": {
    "name": "ipython",
    "version": 3
   },
   "file_extension": ".py",
   "mimetype": "text/x-python",
   "name": "python",
   "nbconvert_exporter": "python",
   "pygments_lexer": "ipython3",
   "version": "3.9.12"
  }
 },
 "nbformat": 4,
 "nbformat_minor": 5
}
