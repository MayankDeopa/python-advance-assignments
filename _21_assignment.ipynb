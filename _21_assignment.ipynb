{
 "cells": [
  {
   "cell_type": "markdown",
   "id": "171231f7",
   "metadata": {},
   "source": [
    "Q1. What is a probability distribution, exactly? If the values are meant to be random, how can you predict them at all ?\n"
   ]
  },
  {
   "cell_type": "markdown",
   "id": "9b922cd0",
   "metadata": {},
   "source": [
    "Ans: A probability distribution describes how a random variable is distributed.\n",
    "It tells us which values a random variable is most likely to take on and which values are less likely. Based on the previous data and the occurences of the random event, we can predict the outcome in terms of probabilities.\n"
   ]
  },
  {
   "cell_type": "markdown",
   "id": "7b2fb09c",
   "metadata": {},
   "source": [
    "\n",
    "Q2. Is there a distinction between true random numbers and pseudo-random numbers, if there is one? Why are the latter considered “good enough”?\n"
   ]
  },
  {
   "cell_type": "markdown",
   "id": "c33e382d",
   "metadata": {},
   "source": [
    "Ans: : True Random Numbers are true physical values while pseudo-random numbers are generated internally by a program . Latter is considered good enough as they have sort of uniform distribution.\n"
   ]
  },
  {
   "cell_type": "markdown",
   "id": "b3d2d06b",
   "metadata": {},
   "source": [
    "\n",
    "Q3. What are the two main factors that influence the behaviour of a \"normal\" probability distribution ?\n"
   ]
  },
  {
   "cell_type": "markdown",
   "id": "6802c580",
   "metadata": {},
   "source": [
    "Ans: Normal Probability Distribution are influenced by two factors mean and the variance.\n"
   ]
  },
  {
   "cell_type": "markdown",
   "id": "b9337865",
   "metadata": {},
   "source": [
    "\n",
    "Q4. Provide a real-life example of a normal distribution ?\n"
   ]
  },
  {
   "cell_type": "markdown",
   "id": "36d01d46",
   "metadata": {},
   "source": [
    "Ans: A Real-life example of a normal distribution are heights or blood pressure measurements\n"
   ]
  },
  {
   "cell_type": "markdown",
   "id": "dc9b599b",
   "metadata": {},
   "source": [
    "\n",
    "Q5. In the short term, how can you expect a probability distribution to behave? What do you think will happen as the number of trials grows ?\n"
   ]
  },
  {
   "cell_type": "markdown",
   "id": "9a127d86",
   "metadata": {},
   "source": [
    "Ans: Variance will decrease with number of trials\n"
   ]
  },
  {
   "cell_type": "markdown",
   "id": "e0f4b207",
   "metadata": {},
   "source": [
    "\n",
    "Q6. What kind of object can be shuffled by using random.shuffle ?\n"
   ]
  },
  {
   "cell_type": "markdown",
   "id": "4bc40f5d",
   "metadata": {},
   "source": [
    "Ans: lists (list), strings (str) and tuples (tuple) objects can be shuffled by using random.shuffle.\n"
   ]
  },
  {
   "cell_type": "markdown",
   "id": "c363d1b4",
   "metadata": {},
   "source": [
    "\n",
    "Q7. Describe the math package's general categories of functions ?\n"
   ]
  },
  {
   "cell_type": "markdown",
   "id": "ff5c5485",
   "metadata": {},
   "source": [
    "Ans: The Math package's general categories of functions are:\n",
    "\n",
    "Trigonometric functions\n",
    "\n",
    "Quadratic functions\n",
    "\n",
    "Exponential functions\n",
    "\n",
    "Hyperbolic functions\n",
    "\n",
    "Periodic functions\n",
    "\n",
    "Arithmetic functions\n",
    "\n",
    "Logarithimic functions\n",
    "\n",
    "Conversions to Integer"
   ]
  },
  {
   "cell_type": "markdown",
   "id": "4097dde2",
   "metadata": {},
   "source": [
    "\n",
    "\n",
    "Q8. What is the relationship between exponentiation and logarithms ?\n"
   ]
  },
  {
   "cell_type": "markdown",
   "id": "034905f7",
   "metadata": {},
   "source": [
    "Ans: Exponentiation and logarithms are inverse of each other.\n"
   ]
  },
  {
   "cell_type": "markdown",
   "id": "b9437c27",
   "metadata": {},
   "source": [
    "\n",
    "Q9. What are the three logarithmic functions that Python supports ?\n"
   ]
  },
  {
   "cell_type": "markdown",
   "id": "9d19764d",
   "metadata": {},
   "source": [
    "Ans: The Three Logarithmic Functions that Python supports are:\n",
    "\n",
    "log2(x) - logarithmic value of x to base 2 log10(x) - logarithmic value of x to base 10 log1p(a) - This function is used to compute logarithm(1+a) ."
   ]
  }
 ],
 "metadata": {
  "kernelspec": {
   "display_name": "Python 3 (ipykernel)",
   "language": "python",
   "name": "python3"
  },
  "language_info": {
   "codemirror_mode": {
    "name": "ipython",
    "version": 3
   },
   "file_extension": ".py",
   "mimetype": "text/x-python",
   "name": "python",
   "nbconvert_exporter": "python",
   "pygments_lexer": "ipython3",
   "version": "3.9.12"
  }
 },
 "nbformat": 4,
 "nbformat_minor": 5
}
